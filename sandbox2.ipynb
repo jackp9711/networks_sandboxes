{
 "cells": [
  {
   "cell_type": "code",
   "execution_count": 1,
   "metadata": {},
   "outputs": [],
   "source": [
    "import networkx as nx"
   ]
  },
  {
   "cell_type": "code",
   "execution_count": 9,
   "metadata": {},
   "outputs": [
    {
     "name": "stdout",
     "output_type": "stream",
     "text": [
      "['b', 'a', 'c', 'f', 'e', 'd', 'g', 'i', 'h']\n"
     ]
    }
   ],
   "source": [
    "g = nx.DiGraph()\n",
    "g.add_edge('b','a')\n",
    "g.add_edge('c','a')\n",
    "g.add_edge('f','a')\n",
    "g.add_edge('e','b')\n",
    "g.add_edge('d','c')\n",
    "g.add_edge('g','e')\n",
    "g.add_edge('i','e')\n",
    "g.add_edge('d','f')\n",
    "g.add_edge('f','g')\n",
    "g.add_edge('g','h')\n",
    "g.add_edge('i','h')\n",
    "print(g.nodes())"
   ]
  },
  {
   "cell_type": "code",
   "execution_count": 10,
   "metadata": {},
   "outputs": [
    {
     "data": {
      "text/plain": [
       "{'b': {'b': 1,\n",
       "  'a': 0.0,\n",
       "  'c': 1.0,\n",
       "  'f': 0.5,\n",
       "  'e': 0.0,\n",
       "  'd': 0.0,\n",
       "  'g': 0.0,\n",
       "  'i': 0.0,\n",
       "  'h': 0.0},\n",
       " 'a': {'b': 0.0,\n",
       "  'a': 1,\n",
       "  'c': 0.0,\n",
       "  'f': 0.0,\n",
       "  'e': 0.0,\n",
       "  'd': 0.0,\n",
       "  'g': 0.0,\n",
       "  'i': 0.0,\n",
       "  'h': 0.0},\n",
       " 'c': {'b': 1.0,\n",
       "  'a': 0.0,\n",
       "  'c': 1,\n",
       "  'f': 0.5,\n",
       "  'e': 0.0,\n",
       "  'd': 0.0,\n",
       "  'g': 0.0,\n",
       "  'i': 0.0,\n",
       "  'h': 0.0},\n",
       " 'f': {'b': 0.5,\n",
       "  'a': 0.0,\n",
       "  'c': 0.5,\n",
       "  'f': 1,\n",
       "  'e': 0.0,\n",
       "  'd': 0.0,\n",
       "  'g': 0.0,\n",
       "  'i': 0.0,\n",
       "  'h': 0.0},\n",
       " 'e': {'b': 0.0,\n",
       "  'a': 0.0,\n",
       "  'c': 0.0,\n",
       "  'f': 0.0,\n",
       "  'e': 1,\n",
       "  'd': 0.75,\n",
       "  'g': 0.0,\n",
       "  'i': 0.0,\n",
       "  'h': 0.0},\n",
       " 'd': {'b': 0.0,\n",
       "  'a': 0.0,\n",
       "  'c': 0.0,\n",
       "  'f': 0.0,\n",
       "  'e': 0.75,\n",
       "  'd': 1,\n",
       "  'g': 0.0,\n",
       "  'i': 0.0,\n",
       "  'h': 0.0},\n",
       " 'g': {'b': 0.0,\n",
       "  'a': 0.0,\n",
       "  'c': 0.0,\n",
       "  'f': 0.0,\n",
       "  'e': 0.0,\n",
       "  'd': 0.0,\n",
       "  'g': 1,\n",
       "  'i': 0.5,\n",
       "  'h': 0.0},\n",
       " 'i': {'b': 0.0,\n",
       "  'a': 0.0,\n",
       "  'c': 0.0,\n",
       "  'f': 0.0,\n",
       "  'e': 0.0,\n",
       "  'd': 0.0,\n",
       "  'g': 0.5,\n",
       "  'i': 1,\n",
       "  'h': 0.0},\n",
       " 'h': {'b': 0.0,\n",
       "  'a': 0.0,\n",
       "  'c': 0.0,\n",
       "  'f': 0.0,\n",
       "  'e': 0.0,\n",
       "  'd': 0.0,\n",
       "  'g': 0.0,\n",
       "  'i': 0.0,\n",
       "  'h': 1}}"
      ]
     },
     "execution_count": 10,
     "metadata": {},
     "output_type": "execute_result"
    }
   ],
   "source": [
    "nx.similarity.simrank_similarity(g, importance_factor=1)"
   ]
  }
 ],
 "metadata": {
  "kernelspec": {
   "display_name": "Python 3",
   "language": "python",
   "name": "python3"
  },
  "language_info": {
   "codemirror_mode": {
    "name": "ipython",
    "version": 3
   },
   "file_extension": ".py",
   "mimetype": "text/x-python",
   "name": "python",
   "nbconvert_exporter": "python",
   "pygments_lexer": "ipython3",
   "version": "3.7.3"
  }
 },
 "nbformat": 4,
 "nbformat_minor": 2
}
