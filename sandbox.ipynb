{
 "cells": [
  {
   "cell_type": "code",
   "execution_count": 1,
   "metadata": {},
   "outputs": [],
   "source": [
    "import networkx as nx\n",
    "G = nx.Graph()"
   ]
  },
  {
   "cell_type": "code",
   "execution_count": 3,
   "metadata": {},
   "outputs": [],
   "source": [
    "G.add_edge(0,1)\n",
    "G.add_edge(0,2)\n",
    "G.add_edge(0,3)\n",
    "G.add_edge(1,3)\n",
    "G.add_edge(2,3)\n",
    "G.add_edge(2,4)\n",
    "G.add_edge(3,4)\n",
    "G.add_edge(4,5)"
   ]
  },
  {
   "cell_type": "code",
   "execution_count": 48,
   "metadata": {},
   "outputs": [
    {
     "name": "stdout",
     "output_type": "stream",
     "text": [
      "[31.999999999999996, 31.999999999999996, 31.999999999999996, 31.999999999999996, 31.999999999999996, 31.999999999999996]\n",
      "[31.999999999999996, 31.999999999999996, 31.999999999999996, 31.999999999999996, 31.999999999999996, 31.999999999999996]\n",
      "[32.0, 32.0, 32.0, 32.0, 32.0, 32.0]\n",
      "[31.999999999999996, 31.999999999999996, 31.999999999999996, 31.999999999999996, 31.999999999999996, 31.999999999999996]\n",
      "[32.0, 32.0, 32.0, 32.0, 32.0, 32.0]\n",
      "[32.0, 32.0, 32.0, 32.0, 32.0, 32.0]\n"
     ]
    }
   ],
   "source": [
    "similarity = []\n",
    "# initialize matrix\n",
    "for i in range(6):\n",
    "    cur_sim = [0,0,0,0,0,0]\n",
    "    cur_sim[i] = 1\n",
    "    similarity.append(cur_sim)\n",
    "    \n",
    "iters = 5\n",
    "for j in range(iters):\n",
    "    for node in G.nodes():\n",
    "        cur_sim = similarity[node]\n",
    "        next_sim = [0,0,0,0,0,0]\n",
    "        for node2 in G.nodes():\n",
    "            sim_calc = [0,0,0,0,0,0]\n",
    "            for neighbor in G.neighbors(node2):\n",
    "                sim_calc[neighbor] += cur_sim[node2]/len(G[node2])\n",
    "            for i in range(len(cur_sim)):\n",
    "                next_sim[i] += sim_calc[i]\n",
    "        for i in range(len(cur_sim)):\n",
    "            similarity[node][i] += next_sim[i]\n",
    "    \n",
    "for row in similarity:\n",
    "    row2 = []\n",
    "    for num in row:\n",
    "        row2.append(sum(row))\n",
    "    print(row2)"
   ]
  }
 ],
 "metadata": {
  "kernelspec": {
   "display_name": "Python 3",
   "language": "python",
   "name": "python3"
  },
  "language_info": {
   "codemirror_mode": {
    "name": "ipython",
    "version": 3
   },
   "file_extension": ".py",
   "mimetype": "text/x-python",
   "name": "python",
   "nbconvert_exporter": "python",
   "pygments_lexer": "ipython3",
   "version": "3.7.3"
  }
 },
 "nbformat": 4,
 "nbformat_minor": 2
}
