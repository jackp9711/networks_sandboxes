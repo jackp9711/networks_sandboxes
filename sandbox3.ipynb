{
 "cells": [
  {
   "cell_type": "code",
   "execution_count": 13,
   "metadata": {},
   "outputs": [
    {
     "name": "stdout",
     "output_type": "stream",
     "text": [
      "17\n"
     ]
    }
   ],
   "source": [
    "import networkx as nx\n",
    "G = nx.Graph()\n",
    "nodes = ['Case','Carn','Harv','BBN','MIT','Linc','SDC','Utah','Rand','SRI','Stan','UCLA','UCSB']\n",
    "G.add_nodes_from(nodes)\n",
    "edges = [('Case','Carn'),('Case','Linc'),('Linc','MIT'),('Carn','Harv'),('BBN','Harv'),('BBN','MIT'),\n",
    "         ('MIT','Utah'),('BBN','Rand'),('Utah','SDC'),('Rand','SDC'),('UCLA','Rand'),('Utah','SRI'),\n",
    "         ('UCLA','Stan'),('UCLA','SRI'),('UCLA','UCSB'),('SRI','UCSB'),('SRI','Stan')]\n",
    "G.add_edges_from(edges)\n",
    "print(len(G.edges))"
   ]
  },
  {
   "cell_type": "code",
   "execution_count": 14,
   "metadata": {},
   "outputs": [
    {
     "name": "stdout",
     "output_type": "stream",
     "text": [
      "{'Case': 0, 'Carn': 1, 'Linc': 1, 'Harv': 2, 'MIT': 2, 'BBN': 3, 'Utah': 3, 'Rand': 4, 'SDC': 4, 'SRI': 4, 'UCLA': 5, 'UCSB': 5, 'Stan': 5}\n"
     ]
    }
   ],
   "source": [
    "print(nx.single_source_shortest_path_length(G,'Case'))"
   ]
  },
  {
   "cell_type": "code",
   "execution_count": 30,
   "metadata": {},
   "outputs": [
    {
     "data": {
      "text/plain": [
       "(array([13., 34., 48., 38., 36.]),\n",
       " array([0, 1, 2, 3, 4, 5]),\n",
       " <a list of 5 Patch objects>)"
      ]
     },
     "execution_count": 30,
     "metadata": {},
     "output_type": "execute_result"
    },
    {
     "data": {
      "image/png": "[encoded data removed]",
      "text/plain": [
       "<Figure size 432x288 with 1 Axes>"
      ]
     },
     "metadata": {
      "needs_background": "light"
     },
     "output_type": "display_data"
    }
   ],
   "source": [
    "from matplotlib import pyplot\n",
    "path_gen = nx.all_pairs_shortest_path_length(G)\n",
    "path_dict = []\n",
    "for i in path_gen: \n",
    "    for j in i[1]: path_dict.append(i[1][j])\n",
    "matplotlib.pyplot.hist(path_dict, bins=[0,1,2,3,4,5])"
   ]
  }
 ],
 "metadata": {
  "kernelspec": {
   "display_name": "Python 3",
   "language": "python",
   "name": "python3"
  },
  "language_info": {
   "codemirror_mode": {
    "name": "ipython",
    "version": 3
   },
   "file_extension": ".py",
   "mimetype": "text/x-python",
   "name": "python",
   "nbconvert_exporter": "python",
   "pygments_lexer": "ipython3",
   "version": "3.7.4"
  }
 },
 "nbformat": 4,
 "nbformat_minor": 2
}
